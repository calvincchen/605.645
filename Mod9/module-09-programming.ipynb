{
 "cells": [
  {
   "cell_type": "markdown",
   "metadata": {},
   "source": [
    "# Module 9 - Programming Assignment\n",
    "\n",
    "## Directions\n",
    "\n",
    "There are general instructions on Blackboard and in the Syllabus for Programming Assignments. This Notebook also has instructions specific to this assignment. Read all the instructions carefully and make sure you understand them. Please ask questions on the discussion boards or email me at `EN605.445@gmail.com` if you do not understand something.\n",
    "\n",
    "<div style=\"background: mistyrose; color: firebrick; border: 2px solid darkred; padding: 5px; margin: 10px;\">\n",
    "You must follow the directions *exactly* or you will get a 0 on the assignment.\n",
    "</div>\n",
    "\n",
    "You must submit a zip file of your assignment and associated files (if there are any) to Blackboard. The zip file will be named after you JHED ID: `<jhed_id>.zip`. It will not include any other information. Inside this zip file should be the following directory structure:\n",
    "\n",
    "```\n",
    "<jhed_id>\n",
    "    |\n",
    "    +--module-09-programming.ipynb\n",
    "    +--module-09-programming.html\n",
    "    +--(any other files)\n",
    "```\n",
    "\n",
    "For example, do not name  your directory `programming_assignment_01` and do not name your directory `smith122_pr1` or any else. It must be only your JHED ID.  Make sure you submit both an .ipynb and .html version of your *completed* notebook. You can generate the HTML version using:\n",
    "\n",
    "> ipython nbconvert [notebookname].ipynb\n",
    "\n",
    "or use the File menu."
   ]
  },
  {
   "cell_type": "markdown",
   "metadata": {},
   "source": [
    "# Model Evaluation\n",
    "\n",
    "In the last programming assignment, you implemented both linear and logistic regression. In this assignment, you're going to use the performance metrics and model evaluation techniques discussed in this module to evaluate the logistic regression.\n",
    "\n",
    "You should use the logistic_regression.csv data from last time. You will also need to use your logistic regression implementation. The cleanest way is to export that notebook to a regular .py file and import your logistic_regression() function. You will need to submit that file along with your notebook. Otherwise, you'll have to copy-paste just the code you need into this workbook.\n",
    "\n",
    "For this assignment, the discussion and programming are flipped. By answering the questions, you will be able to figure out what you need to do for this assigment.\n",
    "\n",
    "## Discussion"
   ]
  },
  {
   "cell_type": "markdown",
   "metadata": {},
   "source": [
    "**1\\. We often want to know how well a model will perform on unseen data, that is, we want to get a sense of the generalization error. What is the name of the technique described in the lectures for accomplishing this. Sketch an algorithm for implementing this technique.**"
   ]
  },
  {
   "cell_type": "markdown",
   "metadata": {},
   "source": [
    "For regression, we can look at mean squared error to estimate how well the model will perform. For classification, we can look at performance metrics like accuracy, error, precision, and recall.\n",
    "\n",
    "def MSE(expected, x_values, regression):\n",
    "\tsum_error_squared = 0\n",
    "\tfor x, e in x_values, expected:\n",
    "\t\tactual = regression(x)\n",
    "\t\terror = a - actual\n",
    "\t\tsum_error_squared += error * error\n",
    "\tmean_squared_error = sum_error_squared / len(x_values)\n",
    "\treturn mean_squared_error\n",
    "\n",
    "def classification_metrics(TP, FP, TN, FN):\n",
    "\taccuracy = (TP + TN) / (TP + FP + TN + FN)\n",
    "\terror = (FP + FN) / (TP + FP + TN + FN)\n",
    "\tprecision = TP / (TP + FP)\n",
    "\trecall = TP / (TP + FN)\n",
    "\treturn accuracy, error, precision, recall"
   ]
  },
  {
   "cell_type": "markdown",
   "metadata": {},
   "source": [
    "**2\\. One of the first things people think of when trying to improve models is to get more data where \"more data\" is more observations (another view of \"more data\" is more features). What technique can we use to see if getting more observations will improve the performance of our model? Sketch an algorithm for accomplishing this.**"
   ]
  },
  {
   "cell_type": "markdown",
   "metadata": {},
   "source": [
    "We need to evaluate the bias-variance tradeoff and how the model performs on the training set vs the test set. More data only helps when the model is underfitting. We can examine the type of bias in our system by picking training set folds and test set folds of various sized slices of the original data. As we train the model on increasing proportion of data, we retain the error scores when we apply the model to both the test and train data sets. We can map out these scores in error lines, which shows us if the model has high or low bias. If the lines converge, it is high bias, and increased amount of data will not help improve the model.\n",
    "\n",
    "\n",
    "\n",
    "def slice(x_values, proportion):\n",
    "\trandomly select proportion of data as test data\n",
    "\treturn train data, remainder data\n",
    "\n",
    "def crossvalidation(data, num_blocks):\n",
    "\trandomly distribute data equally into num_locks\n",
    "\treturn list of lists, where each list is a block of data\n",
    "\n",
    "def error_graph(data): # assume fomat in Mod8 where data contains both x values and expected result\n",
    "\ttrain_error = []\n",
    "\ttest_error = []\n",
    "\tp = []\n",
    "\tblocked_data = crossvalidation(data, 5)\n",
    "\ttrain_data = blocked_data[0] + blocked_data[1] + blocked_data[2] + blocked_data[3]\n",
    "\ttest_data = blocked_data[5]\n",
    "\tfor proportion in range(5, 100, 5): # determine step size here\n",
    "\t\ttemp_train_data = slice(train_data, proportion)\n",
    "\t\tmodel = regression(temp_train_data, expected_values_for_train_data)\n",
    "\t\ttrain_error += [MSE(expected_values_for_train_data, temp_train_data, model)]\n",
    "\t\ttest_error += [MSE(expected_values_for_test_data, test_data, model)]\n",
    "\t\tp += [proportion]\n",
    "\tplot (p, train_error)\n",
    "\tplot (p, test_error)\n",
    "\t# check if there is low or high bias visually by seeing if the error converge at 100%"
   ]
  },
  {
   "cell_type": "markdown",
   "metadata": {},
   "source": [
    "**3\\. Many algorithms have \"hyper parameters\" which control the performance of the algorithm independent of strictly data considerations. For example, a neural network can have 1 or 2 hidden layers and each layer can have N or M nodes. For logistic regression, a default threshold of 0.5 is often used for deciding if the classification should be 0 or 1 but that may not be the best value for our particular problem. What technique can we use to see check the values of our \"hyper parameters\"? Sketch an algorithm for accomplishing this.**"
   ]
  },
  {
   "cell_type": "markdown",
   "metadata": {},
   "source": [
    "We want to observe the effects of different thresholds on our test data, so that we can find the inflection point, or sweet spot between underfitting and overfitting. One way to do this is by testing different threshold points, let's say it .1 increments, graphing the the resultant MSE of the test data.\n",
    "\n",
    "def find_inflection_point(data):\n",
    "\t# using functions defined in previous questions\n",
    "\n",
    "\tblocked_data = crossvalidation(data, 5)\n",
    "\ttrain_data = blocked_data[0] + blocked_data[1] + blocked_data[2] + blocked_data[3]\n",
    "\ttest_data = blocked_data[5]\n",
    "\n",
    "\ttest_mse = []\n",
    "\tthreshold = []\n",
    "\tmodel = regression(train_data, expected_values_for_train_data)\n",
    "\n",
    "\tfor t in range(0, 1.1, .1):\n",
    "\t\tthreshold += [t]\n",
    "\t\ttest_mse += [mse(expected_train_results, train_x_values, model)]\n",
    "\n",
    "\t# should be a roughly parabolic graph that we need to find the x value at minimum for\n",
    "\tgenerate parabolic function\n",
    "\tfind x at min error"
   ]
  },
  {
   "cell_type": "markdown",
   "metadata": {},
   "source": [
    "You are now going to evaluate your logistic regression model from last week on all three dimensions of evaluation and improvment. The questions you want to answer are:\n",
    "\n",
    "1. how well would the logistic regression perform on new observations.\n",
    "2. will getting more training data improve performance of our logistic regression.\n",
    "3. What is the best threshold value for the logistic regression for this problem.\n",
    "\n",
    "A couple of things to keep in mind:\n",
    "\n",
    "1. Learning and Validation Curves are *curves*. Just printing data but not doing the **charts** will result in a failing assignment.\n",
    "2. Plot lines and not points. Yes, you don't have a point for every value but just plot lines anyway.\n",
    "\n",
    "When in doubt, ask questions the discussion forums. I'm leaving this one a bit open-ended to test your understanding of the module and how learning curves are used to assess models. \n",
    "\n",
    "Use matplotlib for your charts; a student posted a link to a nice tutorial http://matplotlib.org/1.3.1/users/pyplot_tutorial.html.\n",
    "\n",
    "Make sure you describe your rationale and design choices."
   ]
  },
  {
   "cell_type": "markdown",
   "metadata": {},
   "source": [
    "**Answer 1.**"
   ]
  },
  {
   "cell_type": "code",
   "execution_count": 2,
   "metadata": {},
   "outputs": [
    {
     "name": "stdout",
     "output_type": "stream",
     "text": [
      "Error using MSE: 0.1252342919770589\n"
     ]
    }
   ],
   "source": [
    "from cchen218 import read_data, learn_logistic_regression, apply_logistic_regression\n",
    "\n",
    "def MSE(data, model):\n",
    "    '''\n",
    "    Calculates the mean squared error of the model given representative data\n",
    "    :param data: data set, with each row representing a tuple of associated x and y values\n",
    "    :param model: model\n",
    "    :return: mean squared erorr\n",
    "    '''\n",
    "    sum_error_squared = 0\n",
    "\n",
    "    for point in data:\n",
    "        actual = apply_logistic_regression(model, point[:-1])\n",
    "        expected = point[-1]\n",
    "        error = expected - actual\n",
    "        sum_error_squared += error * error\n",
    "\n",
    "    mean_squared_error = sum_error_squared / len(data)\n",
    "    return mean_squared_error\n",
    "\n",
    "data = read_data(\"logistic_regression.csv\")\n",
    "model = learn_logistic_regression(data)\n",
    "error = MSE(data, model)\n",
    "print(\"Error using MSE: \" + str(error))"
   ]
  },
  {
   "cell_type": "markdown",
   "metadata": {},
   "source": [
    "**Answer 2.**"
   ]
  },
  {
   "cell_type": "code",
   "execution_count": 5,
   "metadata": {},
   "outputs": [
    {
     "name": "stdout",
     "output_type": "stream",
     "text": [
      "Plotting for convergence...\n"
     ]
    },
    {
     "data": {
      "image/png": "[encoded data removed]",
      "text/plain": [
       "<Figure size 432x288 with 1 Axes>"
      ]
     },
     "metadata": {
      "needs_background": "light"
     },
     "output_type": "display_data"
    }
   ],
   "source": [
    "from cchen218 import read_data, learn_logistic_regression, MSE\n",
    "import random\n",
    "import numpy as np\n",
    "from math import exp, log, floor\n",
    "import matplotlib.pyplot as plt\n",
    "\n",
    "def bias(data):\n",
    "    '''\n",
    "    Part 2 of the problem. plots the bias-variance of the model to test for convergence\n",
    "    :param data: input data\n",
    "    :return:\n",
    "    '''\n",
    "    train_error = []\n",
    "    test_error = []\n",
    "    p = []\n",
    "\n",
    "    data_blocks = cross_validation(data, 5)\n",
    "    train_data = data_blocks[0] + data_blocks[1] + data_blocks[2] + data_blocks[3]\n",
    "    test_data = data_blocks[4]\n",
    "\n",
    "    for proportion in range(5, 105, 5):  # determine step size here\n",
    "        temp_train_data = train_data[:floor(proportion / 100 * len(train_data))]\n",
    "        model = learn_logistic_regression(temp_train_data)\n",
    "\n",
    "        train_error += [MSE(temp_train_data, model)] # should this be train_data or temp_train_data\n",
    "        test_error += [MSE(test_data, model)]\n",
    "        p += [proportion]\n",
    "    print(\"Plotting for convergence...\")\n",
    "    plot(p, train_error, test_error, 1, True, \"Percent Training Data Used\", \"Error\")\n",
    "    return\n",
    "\n",
    "def cross_validation(data, num_blocks):\n",
    "    '''\n",
    "    Returns a list of list of randomized data, split into equal block sizes\n",
    "    :param data:\n",
    "    :param num_blocks:\n",
    "    :return:\n",
    "    '''\n",
    "    random.shuffle(data)\n",
    "    blocks = []\n",
    "\n",
    "    start_idx = 0\n",
    "    block_length = len(data) // num_blocks\n",
    "\n",
    "    for i in range(num_blocks):\n",
    "        blocks.append(data[start_idx: start_idx + block_length])\n",
    "        start_idx += block_length\n",
    "\n",
    "    # capture remainder of data\n",
    "    blocks[-1].extend(data[start_idx:])\n",
    "    return blocks\n",
    "\n",
    "def plot(x, train_y, test_y, degree=1, log_fit=False, xaxis='x axis', yaxis='y axis'):\n",
    "    '''\n",
    "    Creates a best fit line for the input data and graphs it\n",
    "    :param x: values for x axis (could be parameters)\n",
    "    :param train_y: y values from training data\n",
    "    :param test_y: y values from testing data\n",
    "    :param degree: polynomial degree\n",
    "    :param log_fit: True if we want to use a log fit\n",
    "    :param xaxis: label for x axis\n",
    "    :param yaxis: label for y axis\n",
    "    :return: trendlines for training and test data\n",
    "    '''\n",
    "\n",
    "    if log_fit:\n",
    "        trend1 = np.polyfit(np.log(np.array(x)), train_y, degree)\n",
    "        trend2 = np.polyfit(np.log(np.array(x)), test_y, degree)\n",
    "\n",
    "        trendpoly1 = np.poly1d(trend1)\n",
    "        trendpoly2 = np.poly1d(trend2)\n",
    "\n",
    "        plt.plot(x, trendpoly1(np.log(np.array(x))), label=\"Training error\")\n",
    "        plt.plot(x, trendpoly2(np.log(np.array(x))), label=\"Testing error\")\n",
    "    else:\n",
    "        trend1 = np.polyfit(x, train_y, degree)\n",
    "        trend2 = np.polyfit(x, test_y, degree)\n",
    "\n",
    "        trendpoly1 = np.poly1d(trend1)\n",
    "        trendpoly2 = np.poly1d(trend2)\n",
    "\n",
    "        plt.plot(x, trendpoly1(x), label=\"Training error\")\n",
    "        plt.plot(x, trendpoly2(x), label=\"Testing error\")\n",
    "\n",
    "    plt.legend()\n",
    "\n",
    "    plt.ylabel(yaxis)\n",
    "    plt.xlabel(xaxis)\n",
    "\n",
    "    plt.show()\n",
    "\n",
    "    return trend1, trend2\n",
    "\n",
    "data = read_data(\"logistic_regression.csv\")\n",
    "bias(data)"
   ]
  },
  {
   "cell_type": "markdown",
   "metadata": {},
   "source": [
    "**Answer 3.**"
   ]
  },
  {
   "cell_type": "code",
   "execution_count": 6,
   "metadata": {},
   "outputs": [
    {
     "name": "stdout",
     "output_type": "stream",
     "text": [
      "Plotting to find the best threshold value...\n"
     ]
    },
    {
     "data": {
      "image/png": "[encoded data removed]",
      "text/plain": [
       "<Figure size 432x288 with 1 Axes>"
      ]
     },
     "metadata": {
      "needs_background": "light"
     },
     "output_type": "display_data"
    },
    {
     "name": "stdout",
     "output_type": "stream",
     "text": [
      "The best threshold value isL 0.44378378378378397\n"
     ]
    }
   ],
   "source": [
    "from cchen218 import read_data, learn_logistic_regression, MSE, plot\n",
    "import random\n",
    "import numpy as np\n",
    "from math import exp, log, floor\n",
    "import matplotlib.pyplot as plt\n",
    "\n",
    "def find_inflection_point(data):\n",
    "    '''\n",
    "    Finds the inflection point/threshold for the given data for part 3\n",
    "    :param data: input data\n",
    "    :return: None\n",
    "    '''\n",
    "    # using functions defined in previous questions\n",
    "\n",
    "    data_blocks = cross_validation(data, 5)\n",
    "    train_data = data_blocks[0] + data_blocks[1] + data_blocks[2] + data_blocks[3]\n",
    "    test_data = data_blocks[4]\n",
    "\n",
    "    test_error = []\n",
    "    train_error = []\n",
    "    threshold = []\n",
    "    threshold_range = [x * 0.1 for x in range(0, 11)]\n",
    "\n",
    "    model = learn_logistic_regression(train_data)\n",
    "\n",
    "    for t in threshold_range:\n",
    "        temp_train_error = 0\n",
    "        temp_test_error = 0\n",
    "        for point in train_data:\n",
    "            expected = point[-1]\n",
    "            actual = 1 if apply_logistic_regression(model, point[:-1]) >= t else 0\n",
    "            temp_train_error += int(not expected == actual) ** 2\n",
    "        for point in test_data:\n",
    "            expected = point[-1]\n",
    "            actual = 1 if apply_logistic_regression(model, point[:-1]) >= t else 0\n",
    "            temp_test_error += int(not expected == actual) ** 2\n",
    "\n",
    "        train_error += [temp_train_error / len(train_data)]\n",
    "        test_error += [temp_test_error / len(test_data)]\n",
    "        threshold += [t]\n",
    "\n",
    "    # graph and find x value at minimum\n",
    "    print(\"Plotting to find the best threshold value...\")\n",
    "    test_eq, trend_eq = plot(threshold, train_error, test_error, 2, False, \"Threshold value\", \"Error\")\n",
    "    inflection = -trend_eq[1] / 2 / trend_eq[0]\n",
    "    print(\"The best threshold value is: \" + str(inflection))\n",
    "    return\n",
    "\n",
    "data = read_data(\"logistic_regression.csv\")\n",
    "find_inflection_point(data)"
   ]
  }
 ],
 "metadata": {
  "kernelspec": {
   "display_name": "Python 3",
   "language": "python",
   "name": "python3"
  },
  "language_info": {
   "codemirror_mode": {
    "name": "ipython",
    "version": 3
   },
   "file_extension": ".py",
   "mimetype": "text/x-python",
   "name": "python",
   "nbconvert_exporter": "python",
   "pygments_lexer": "ipython3",
   "version": "3.7.1"
  }
 },
 "nbformat": 4,
 "nbformat_minor": 1
}
